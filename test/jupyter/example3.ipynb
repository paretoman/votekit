{
 "cells": [
  {
   "cell_type": "code",
   "execution_count": 31,
   "metadata": {
    "scrolled": true
   },
   "outputs": [
    {
     "data": {
      "text/html": [
       "<!DOCTYPE html>\n",
       "<html lang=\"en\">\n",
       "    <head>\n",
       "        <meta name=\"viewport\" content=\"width=device-width, initial-scale=1\">\n",
       "        <link href=\"../../src/ui/sandbox.css\" rel=\"stylesheet\">\n",
       "        <link href=\"../../src/menu/button.css\" rel=\"stylesheet\">\n",
       "        <script type=\"module\" src=\"../../src/ui/addSandboxes.js\"></script>\n",
       "        <style>\n",
       "            ul li{\n",
       "                display: inline;\n",
       "                padding-right: 20px;\n",
       "            }\n",
       "        </style>\n",
       "    </head>\n",
       "    <body> \n",
       "        <ul>\n",
       "            <li><a href=\"../../tutorial/\">Pages</a></li>\n",
       "            <li><a href=\"../../src\">src/</a></li>\n",
       "            <li><a href=\"../../src/test/test.html\">unitTest</a></li>\n",
       "            <li><a href=\"../../src/test.html\">testExamples</a></li>\n",
       "            <li><a href=\"../../docs\">docs</a></li>\n",
       "            <li><a href=\"../../dist\">dist</a></li>\n",
       "            <li><a href=\"https://codesandbox.io/s/github/paretoman/votekit\">editCodeSandbox</a></li>\n",
       "        </ul>\n",
       "        <div class=\"sim-sandbox\">\n",
       "            <div class=\"sim-container\">\n",
       "                <div class=\"sandbox\" data-sandboxurl=\"../../src/s/\"></div>\n",
       "            </div>\n",
       "        </div>\n",
       "    </body>\n",
       "</html>"
      ],
      "text/plain": [
       "<IPython.core.display.HTML object>"
      ]
     },
     "metadata": {},
     "output_type": "display_data"
    },
    {
     "data": {
      "text/plain": [
       "''"
      ]
     },
     "execution_count": 31,
     "metadata": {},
     "output_type": "execute_result"
    }
   ],
   "source": [
    "from IPython.display import HTML,IFrame\n",
    "\n",
    "HTML(filename=\"index.html\")"
   ]
  },
  {
   "cell_type": "code",
   "execution_count": null,
   "metadata": {},
   "outputs": [],
   "source": [
    "%%javascript\n",
    "// This is a harder method and isn't fully developed yet.\n",
    "// Run votekitOnUpdate at every update.\n",
    "\n",
    "window.votekitUpdate = (store,data) => {\n",
    "    const ex = (command) => window.IPython.notebook.kernel.execute(command)\n",
    "    ex(`votekitOnUpdate('${JSON.stringify(store)}')`)\n",
    "}"
   ]
  },
  {
   "cell_type": "code",
   "execution_count": null,
   "metadata": {},
   "outputs": [],
   "source": [
    "%%javascript\n",
    "// Turn off above function because it runs too long.\n",
    "window.votekitUpdate = undefined"
   ]
  },
  {
   "cell_type": "code",
   "execution_count": 1,
   "metadata": {},
   "outputs": [
    {
     "name": "stdout",
     "output_type": "stream",
     "text": [
      "1660185659.1929262\n"
     ]
    }
   ],
   "source": [
    "\n",
    "\n",
    "import time\n",
    "votekitData = {}\n",
    "vote1 = ''\n",
    "start_time = time.time()\n",
    "print(start_time)\n",
    "# add a timer so that we don't send too many requests to the kernel, not more than 1 per second\n",
    "def votekitOnUpdate(data):\n",
    "    global start_time\n",
    "    elapsed_time = time.time() - start_time\n",
    "    \n",
    "    if elapsed_time > 1:\n",
    "        global vote1\n",
    "        vote1 = data\n",
    "        start_time = time.time()\n",
    "        # your code\n"
   ]
  },
  {
   "cell_type": "code",
   "execution_count": null,
   "metadata": {},
   "outputs": [],
   "source": []
  }
 ],
 "metadata": {
  "kernelspec": {
   "display_name": "Python 3",
   "language": "python",
   "name": "python3"
  },
  "language_info": {
   "codemirror_mode": {
    "name": "ipython",
    "version": 3
   },
   "file_extension": ".py",
   "mimetype": "text/x-python",
   "name": "python",
   "nbconvert_exporter": "python",
   "pygments_lexer": "ipython3",
   "version": "3.7.9"
  }
 },
 "nbformat": 4,
 "nbformat_minor": 4
}

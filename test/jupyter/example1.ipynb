{
 "cells": [
  {
   "cell_type": "code",
   "execution_count": 31,
   "metadata": {
    "scrolled": true
   },
   "outputs": [
    {
     "data": {
      "text/html": [
       "<!DOCTYPE html>\n",
       "<html lang=\"en\">\n",
       "    <head>\n",
       "        <meta name=\"viewport\" content=\"width=device-width, initial-scale=1\">\n",
       "        <link href=\"../../src/ui/sandbox.css\" rel=\"stylesheet\">\n",
       "        <link href=\"../../src/menu/button.css\" rel=\"stylesheet\">\n",
       "        <script type=\"module\" src=\"../../src/ui/addSandboxes.js\"></script>\n",
       "        <style>\n",
       "            ul li{\n",
       "                display: inline;\n",
       "                padding-right: 20px;\n",
       "            }\n",
       "        </style>\n",
       "    </head>\n",
       "    <body> \n",
       "        <ul>\n",
       "            <li><a href=\"../../tutorial/\">Pages</a></li>\n",
       "            <li><a href=\"../../src\">src/</a></li>\n",
       "            <li><a href=\"../../src/test/test.html\">unitTest</a></li>\n",
       "            <li><a href=\"../../src/test.html\">testExamples</a></li>\n",
       "            <li><a href=\"../../docs\">docs</a></li>\n",
       "            <li><a href=\"../../dist\">dist</a></li>\n",
       "            <li><a href=\"https://codesandbox.io/s/github/paretoman/votekit\">editCodeSandbox</a></li>\n",
       "        </ul>\n",
       "        <div class=\"sim-sandbox\">\n",
       "            <div class=\"sim-container\">\n",
       "                <div class=\"sandbox\" data-sandboxurl=\"../../src/s/\"></div>\n",
       "            </div>\n",
       "        </div>\n",
       "    </body>\n",
       "</html>"
      ],
      "text/plain": [
       "<IPython.core.display.HTML object>"
      ]
     },
     "metadata": {},
     "output_type": "display_data"
    },
    {
     "data": {
      "text/plain": [
       "''"
      ]
     },
     "execution_count": 31,
     "metadata": {},
     "output_type": "execute_result"
    }
   ],
   "source": [
    "from IPython.display import HTML,IFrame\n",
    "\n",
    "HTML(filename=\"index.html\")"
   ]
  },
  {
   "cell_type": "code",
   "execution_count": 1,
   "metadata": {},
   "outputs": [
    {
     "data": {
      "application/javascript": [
       "window.getVotekitStore()\n",
       "// Copy data from javascript into python variable called votekitData.\n"
      ],
      "text/plain": [
       "<IPython.core.display.Javascript object>"
      ]
     },
     "metadata": {},
     "output_type": "display_data"
    }
   ],
   "source": [
    "%%javascript\n",
    "window.getVotekitStore()\n",
    "// Copy data from javascript into python variable called votekitData."
   ]
  },
  {
   "cell_type": "code",
   "execution_count": 2,
   "metadata": {
    "scrolled": true
   },
   "outputs": [
    {
     "data": {
      "text/plain": [
       "'{\"votes\":{\"tallyFractions\":[0.4093235244950354,0.15786727739544687,0.4328091981095177]},\"electionResults\":{\"iWinner\":2,\"winner\":{\"shape1\":{\"x\":200},\"shape2\":{\"x\":200,\"y\":250},\"setAction\":{},\"exists\":1,\"x\":200,\"y\":250,\"color\":\"#2050e0\",\"colorRGBA\":[32,80,224,-1],\"party\":[2],\"wHandle\":21,\"hHandle\":21},\"votes\":{\"tallyFractions\":[0.4093235244950354,0.15786727739544687,0.4328091981095177]}}}'"
      ]
     },
     "execution_count": 2,
     "metadata": {},
     "output_type": "execute_result"
    }
   ],
   "source": [
    "votekitData"
   ]
  },
  {
   "cell_type": "code",
   "execution_count": null,
   "metadata": {},
   "outputs": [],
   "source": []
  }
 ],
 "metadata": {
  "kernelspec": {
   "display_name": "Python 3",
   "language": "python",
   "name": "python3"
  },
  "language_info": {
   "codemirror_mode": {
    "name": "ipython",
    "version": 3
   },
   "file_extension": ".py",
   "mimetype": "text/x-python",
   "name": "python",
   "nbconvert_exporter": "python",
   "pygments_lexer": "ipython3",
   "version": "3.7.9"
  }
 },
 "nbformat": 4,
 "nbformat_minor": 4
}
